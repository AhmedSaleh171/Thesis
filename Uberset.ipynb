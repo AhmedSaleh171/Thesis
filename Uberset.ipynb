{
  "nbformat": 4,
  "nbformat_minor": 0,
  "metadata": {
    "colab": {
      "provenance": [],
      "include_colab_link": true
    },
    "kernelspec": {
      "name": "python3",
      "display_name": "Python 3"
    },
    "language_info": {
      "name": "python"
    }
  },
  "cells": [
    {
      "cell_type": "markdown",
      "metadata": {
        "id": "view-in-github",
        "colab_type": "text"
      },
      "source": [
        "<a href=\"https://colab.research.google.com/github/AhmedSaleh171/Thesis/blob/main/Uberset.ipynb\" target=\"_parent\"><img src=\"https://colab.research.google.com/assets/colab-badge.svg\" alt=\"Open In Colab\"/></a>"
      ]
    },
    {
      "cell_type": "code",
      "source": [
        "# !pip install numpy==1.26.4 pandas==2.2.2 --quiet\n",
        "# !pip install catboost --quiet\n",
        "# !pip install streamlit --quiet\n",
        "\n",
        "# After install: runtime --> restart session"
      ],
      "metadata": {
        "id": "MtXUZiPbnbYr"
      },
      "execution_count": 1,
      "outputs": []
    },
    {
      "cell_type": "code",
      "execution_count": 2,
      "metadata": {
        "id": "d96EBCKGcttn",
        "colab": {
          "base_uri": "https://localhost:8080/",
          "height": 226
        },
        "outputId": "c945989d-889c-4c7b-caa4-916256c7704b"
      },
      "outputs": [
        {
          "output_type": "execute_result",
          "data": {
            "text/plain": [
              "   Number_of_Riders  Number_of_Drivers Location_Category  \\\n",
              "0                90                 45             Urban   \n",
              "1                58                 39          Suburban   \n",
              "2                42                 31             Rural   \n",
              "3                89                 28             Rural   \n",
              "4                78                 22             Rural   \n",
              "\n",
              "  Customer_Loyalty_Status  Number_of_Past_Rides  Average_Ratings  \\\n",
              "0                  Silver                    13             4.47   \n",
              "1                  Silver                    72             4.06   \n",
              "2                  Silver                     0             3.99   \n",
              "3                 Regular                    67             4.31   \n",
              "4                 Regular                    74             3.77   \n",
              "\n",
              "  Time_of_Booking Vehicle_Type  Expected_Ride_Duration  \\\n",
              "0           Night      Premium                      90   \n",
              "1         Evening      Economy                      43   \n",
              "2       Afternoon      Premium                      76   \n",
              "3       Afternoon      Premium                     134   \n",
              "4       Afternoon      Economy                     149   \n",
              "\n",
              "   Historical_Cost_of_Ride  \n",
              "0               284.257273  \n",
              "1               173.874753  \n",
              "2               329.795469  \n",
              "3               470.201232  \n",
              "4               579.681422  "
            ],
            "text/html": [
              "\n",
              "  <div id=\"df-c71d6e00-e2db-48b8-b9c5-0eaeac4fd8a3\" class=\"colab-df-container\">\n",
              "    <div>\n",
              "<style scoped>\n",
              "    .dataframe tbody tr th:only-of-type {\n",
              "        vertical-align: middle;\n",
              "    }\n",
              "\n",
              "    .dataframe tbody tr th {\n",
              "        vertical-align: top;\n",
              "    }\n",
              "\n",
              "    .dataframe thead th {\n",
              "        text-align: right;\n",
              "    }\n",
              "</style>\n",
              "<table border=\"1\" class=\"dataframe\">\n",
              "  <thead>\n",
              "    <tr style=\"text-align: right;\">\n",
              "      <th></th>\n",
              "      <th>Number_of_Riders</th>\n",
              "      <th>Number_of_Drivers</th>\n",
              "      <th>Location_Category</th>\n",
              "      <th>Customer_Loyalty_Status</th>\n",
              "      <th>Number_of_Past_Rides</th>\n",
              "      <th>Average_Ratings</th>\n",
              "      <th>Time_of_Booking</th>\n",
              "      <th>Vehicle_Type</th>\n",
              "      <th>Expected_Ride_Duration</th>\n",
              "      <th>Historical_Cost_of_Ride</th>\n",
              "    </tr>\n",
              "  </thead>\n",
              "  <tbody>\n",
              "    <tr>\n",
              "      <th>0</th>\n",
              "      <td>90</td>\n",
              "      <td>45</td>\n",
              "      <td>Urban</td>\n",
              "      <td>Silver</td>\n",
              "      <td>13</td>\n",
              "      <td>4.47</td>\n",
              "      <td>Night</td>\n",
              "      <td>Premium</td>\n",
              "      <td>90</td>\n",
              "      <td>284.257273</td>\n",
              "    </tr>\n",
              "    <tr>\n",
              "      <th>1</th>\n",
              "      <td>58</td>\n",
              "      <td>39</td>\n",
              "      <td>Suburban</td>\n",
              "      <td>Silver</td>\n",
              "      <td>72</td>\n",
              "      <td>4.06</td>\n",
              "      <td>Evening</td>\n",
              "      <td>Economy</td>\n",
              "      <td>43</td>\n",
              "      <td>173.874753</td>\n",
              "    </tr>\n",
              "    <tr>\n",
              "      <th>2</th>\n",
              "      <td>42</td>\n",
              "      <td>31</td>\n",
              "      <td>Rural</td>\n",
              "      <td>Silver</td>\n",
              "      <td>0</td>\n",
              "      <td>3.99</td>\n",
              "      <td>Afternoon</td>\n",
              "      <td>Premium</td>\n",
              "      <td>76</td>\n",
              "      <td>329.795469</td>\n",
              "    </tr>\n",
              "    <tr>\n",
              "      <th>3</th>\n",
              "      <td>89</td>\n",
              "      <td>28</td>\n",
              "      <td>Rural</td>\n",
              "      <td>Regular</td>\n",
              "      <td>67</td>\n",
              "      <td>4.31</td>\n",
              "      <td>Afternoon</td>\n",
              "      <td>Premium</td>\n",
              "      <td>134</td>\n",
              "      <td>470.201232</td>\n",
              "    </tr>\n",
              "    <tr>\n",
              "      <th>4</th>\n",
              "      <td>78</td>\n",
              "      <td>22</td>\n",
              "      <td>Rural</td>\n",
              "      <td>Regular</td>\n",
              "      <td>74</td>\n",
              "      <td>3.77</td>\n",
              "      <td>Afternoon</td>\n",
              "      <td>Economy</td>\n",
              "      <td>149</td>\n",
              "      <td>579.681422</td>\n",
              "    </tr>\n",
              "  </tbody>\n",
              "</table>\n",
              "</div>\n",
              "    <div class=\"colab-df-buttons\">\n",
              "\n",
              "  <div class=\"colab-df-container\">\n",
              "    <button class=\"colab-df-convert\" onclick=\"convertToInteractive('df-c71d6e00-e2db-48b8-b9c5-0eaeac4fd8a3')\"\n",
              "            title=\"Convert this dataframe to an interactive table.\"\n",
              "            style=\"display:none;\">\n",
              "\n",
              "  <svg xmlns=\"http://www.w3.org/2000/svg\" height=\"24px\" viewBox=\"0 -960 960 960\">\n",
              "    <path d=\"M120-120v-720h720v720H120Zm60-500h600v-160H180v160Zm220 220h160v-160H400v160Zm0 220h160v-160H400v160ZM180-400h160v-160H180v160Zm440 0h160v-160H620v160ZM180-180h160v-160H180v160Zm440 0h160v-160H620v160Z\"/>\n",
              "  </svg>\n",
              "    </button>\n",
              "\n",
              "  <style>\n",
              "    .colab-df-container {\n",
              "      display:flex;\n",
              "      gap: 12px;\n",
              "    }\n",
              "\n",
              "    .colab-df-convert {\n",
              "      background-color: #E8F0FE;\n",
              "      border: none;\n",
              "      border-radius: 50%;\n",
              "      cursor: pointer;\n",
              "      display: none;\n",
              "      fill: #1967D2;\n",
              "      height: 32px;\n",
              "      padding: 0 0 0 0;\n",
              "      width: 32px;\n",
              "    }\n",
              "\n",
              "    .colab-df-convert:hover {\n",
              "      background-color: #E2EBFA;\n",
              "      box-shadow: 0px 1px 2px rgba(60, 64, 67, 0.3), 0px 1px 3px 1px rgba(60, 64, 67, 0.15);\n",
              "      fill: #174EA6;\n",
              "    }\n",
              "\n",
              "    .colab-df-buttons div {\n",
              "      margin-bottom: 4px;\n",
              "    }\n",
              "\n",
              "    [theme=dark] .colab-df-convert {\n",
              "      background-color: #3B4455;\n",
              "      fill: #D2E3FC;\n",
              "    }\n",
              "\n",
              "    [theme=dark] .colab-df-convert:hover {\n",
              "      background-color: #434B5C;\n",
              "      box-shadow: 0px 1px 3px 1px rgba(0, 0, 0, 0.15);\n",
              "      filter: drop-shadow(0px 1px 2px rgba(0, 0, 0, 0.3));\n",
              "      fill: #FFFFFF;\n",
              "    }\n",
              "  </style>\n",
              "\n",
              "    <script>\n",
              "      const buttonEl =\n",
              "        document.querySelector('#df-c71d6e00-e2db-48b8-b9c5-0eaeac4fd8a3 button.colab-df-convert');\n",
              "      buttonEl.style.display =\n",
              "        google.colab.kernel.accessAllowed ? 'block' : 'none';\n",
              "\n",
              "      async function convertToInteractive(key) {\n",
              "        const element = document.querySelector('#df-c71d6e00-e2db-48b8-b9c5-0eaeac4fd8a3');\n",
              "        const dataTable =\n",
              "          await google.colab.kernel.invokeFunction('convertToInteractive',\n",
              "                                                    [key], {});\n",
              "        if (!dataTable) return;\n",
              "\n",
              "        const docLinkHtml = 'Like what you see? Visit the ' +\n",
              "          '<a target=\"_blank\" href=https://colab.research.google.com/notebooks/data_table.ipynb>data table notebook</a>'\n",
              "          + ' to learn more about interactive tables.';\n",
              "        element.innerHTML = '';\n",
              "        dataTable['output_type'] = 'display_data';\n",
              "        await google.colab.output.renderOutput(dataTable, element);\n",
              "        const docLink = document.createElement('div');\n",
              "        docLink.innerHTML = docLinkHtml;\n",
              "        element.appendChild(docLink);\n",
              "      }\n",
              "    </script>\n",
              "  </div>\n",
              "\n",
              "\n",
              "    <div id=\"df-19dec180-3135-41a2-90d5-0f1bd84941f1\">\n",
              "      <button class=\"colab-df-quickchart\" onclick=\"quickchart('df-19dec180-3135-41a2-90d5-0f1bd84941f1')\"\n",
              "                title=\"Suggest charts\"\n",
              "                style=\"display:none;\">\n",
              "\n",
              "<svg xmlns=\"http://www.w3.org/2000/svg\" height=\"24px\"viewBox=\"0 0 24 24\"\n",
              "     width=\"24px\">\n",
              "    <g>\n",
              "        <path d=\"M19 3H5c-1.1 0-2 .9-2 2v14c0 1.1.9 2 2 2h14c1.1 0 2-.9 2-2V5c0-1.1-.9-2-2-2zM9 17H7v-7h2v7zm4 0h-2V7h2v10zm4 0h-2v-4h2v4z\"/>\n",
              "    </g>\n",
              "</svg>\n",
              "      </button>\n",
              "\n",
              "<style>\n",
              "  .colab-df-quickchart {\n",
              "      --bg-color: #E8F0FE;\n",
              "      --fill-color: #1967D2;\n",
              "      --hover-bg-color: #E2EBFA;\n",
              "      --hover-fill-color: #174EA6;\n",
              "      --disabled-fill-color: #AAA;\n",
              "      --disabled-bg-color: #DDD;\n",
              "  }\n",
              "\n",
              "  [theme=dark] .colab-df-quickchart {\n",
              "      --bg-color: #3B4455;\n",
              "      --fill-color: #D2E3FC;\n",
              "      --hover-bg-color: #434B5C;\n",
              "      --hover-fill-color: #FFFFFF;\n",
              "      --disabled-bg-color: #3B4455;\n",
              "      --disabled-fill-color: #666;\n",
              "  }\n",
              "\n",
              "  .colab-df-quickchart {\n",
              "    background-color: var(--bg-color);\n",
              "    border: none;\n",
              "    border-radius: 50%;\n",
              "    cursor: pointer;\n",
              "    display: none;\n",
              "    fill: var(--fill-color);\n",
              "    height: 32px;\n",
              "    padding: 0;\n",
              "    width: 32px;\n",
              "  }\n",
              "\n",
              "  .colab-df-quickchart:hover {\n",
              "    background-color: var(--hover-bg-color);\n",
              "    box-shadow: 0 1px 2px rgba(60, 64, 67, 0.3), 0 1px 3px 1px rgba(60, 64, 67, 0.15);\n",
              "    fill: var(--button-hover-fill-color);\n",
              "  }\n",
              "\n",
              "  .colab-df-quickchart-complete:disabled,\n",
              "  .colab-df-quickchart-complete:disabled:hover {\n",
              "    background-color: var(--disabled-bg-color);\n",
              "    fill: var(--disabled-fill-color);\n",
              "    box-shadow: none;\n",
              "  }\n",
              "\n",
              "  .colab-df-spinner {\n",
              "    border: 2px solid var(--fill-color);\n",
              "    border-color: transparent;\n",
              "    border-bottom-color: var(--fill-color);\n",
              "    animation:\n",
              "      spin 1s steps(1) infinite;\n",
              "  }\n",
              "\n",
              "  @keyframes spin {\n",
              "    0% {\n",
              "      border-color: transparent;\n",
              "      border-bottom-color: var(--fill-color);\n",
              "      border-left-color: var(--fill-color);\n",
              "    }\n",
              "    20% {\n",
              "      border-color: transparent;\n",
              "      border-left-color: var(--fill-color);\n",
              "      border-top-color: var(--fill-color);\n",
              "    }\n",
              "    30% {\n",
              "      border-color: transparent;\n",
              "      border-left-color: var(--fill-color);\n",
              "      border-top-color: var(--fill-color);\n",
              "      border-right-color: var(--fill-color);\n",
              "    }\n",
              "    40% {\n",
              "      border-color: transparent;\n",
              "      border-right-color: var(--fill-color);\n",
              "      border-top-color: var(--fill-color);\n",
              "    }\n",
              "    60% {\n",
              "      border-color: transparent;\n",
              "      border-right-color: var(--fill-color);\n",
              "    }\n",
              "    80% {\n",
              "      border-color: transparent;\n",
              "      border-right-color: var(--fill-color);\n",
              "      border-bottom-color: var(--fill-color);\n",
              "    }\n",
              "    90% {\n",
              "      border-color: transparent;\n",
              "      border-bottom-color: var(--fill-color);\n",
              "    }\n",
              "  }\n",
              "</style>\n",
              "\n",
              "      <script>\n",
              "        async function quickchart(key) {\n",
              "          const quickchartButtonEl =\n",
              "            document.querySelector('#' + key + ' button');\n",
              "          quickchartButtonEl.disabled = true;  // To prevent multiple clicks.\n",
              "          quickchartButtonEl.classList.add('colab-df-spinner');\n",
              "          try {\n",
              "            const charts = await google.colab.kernel.invokeFunction(\n",
              "                'suggestCharts', [key], {});\n",
              "          } catch (error) {\n",
              "            console.error('Error during call to suggestCharts:', error);\n",
              "          }\n",
              "          quickchartButtonEl.classList.remove('colab-df-spinner');\n",
              "          quickchartButtonEl.classList.add('colab-df-quickchart-complete');\n",
              "        }\n",
              "        (() => {\n",
              "          let quickchartButtonEl =\n",
              "            document.querySelector('#df-19dec180-3135-41a2-90d5-0f1bd84941f1 button');\n",
              "          quickchartButtonEl.style.display =\n",
              "            google.colab.kernel.accessAllowed ? 'block' : 'none';\n",
              "        })();\n",
              "      </script>\n",
              "    </div>\n",
              "\n",
              "    </div>\n",
              "  </div>\n"
            ],
            "application/vnd.google.colaboratory.intrinsic+json": {
              "type": "dataframe",
              "variable_name": "df",
              "summary": "{\n  \"name\": \"df\",\n  \"rows\": 1000,\n  \"fields\": [\n    {\n      \"column\": \"Number_of_Riders\",\n      \"properties\": {\n        \"dtype\": \"number\",\n        \"std\": 23,\n        \"min\": 20,\n        \"max\": 100,\n        \"num_unique_values\": 81,\n        \"samples\": [\n          68,\n          90,\n          48\n        ],\n        \"semantic_type\": \"\",\n        \"description\": \"\"\n      }\n    },\n    {\n      \"column\": \"Number_of_Drivers\",\n      \"properties\": {\n        \"dtype\": \"number\",\n        \"std\": 19,\n        \"min\": 5,\n        \"max\": 89,\n        \"num_unique_values\": 79,\n        \"samples\": [\n          55,\n          45,\n          9\n        ],\n        \"semantic_type\": \"\",\n        \"description\": \"\"\n      }\n    },\n    {\n      \"column\": \"Location_Category\",\n      \"properties\": {\n        \"dtype\": \"category\",\n        \"num_unique_values\": 3,\n        \"samples\": [\n          \"Urban\",\n          \"Suburban\",\n          \"Rural\"\n        ],\n        \"semantic_type\": \"\",\n        \"description\": \"\"\n      }\n    },\n    {\n      \"column\": \"Customer_Loyalty_Status\",\n      \"properties\": {\n        \"dtype\": \"category\",\n        \"num_unique_values\": 3,\n        \"samples\": [\n          \"Silver\",\n          \"Regular\",\n          \"Gold\"\n        ],\n        \"semantic_type\": \"\",\n        \"description\": \"\"\n      }\n    },\n    {\n      \"column\": \"Number_of_Past_Rides\",\n      \"properties\": {\n        \"dtype\": \"number\",\n        \"std\": 29,\n        \"min\": 0,\n        \"max\": 100,\n        \"num_unique_values\": 101,\n        \"samples\": [\n          42,\n          31,\n          90\n        ],\n        \"semantic_type\": \"\",\n        \"description\": \"\"\n      }\n    },\n    {\n      \"column\": \"Average_Ratings\",\n      \"properties\": {\n        \"dtype\": \"number\",\n        \"std\": 0.43578088138028376,\n        \"min\": 3.5,\n        \"max\": 5.0,\n        \"num_unique_values\": 151,\n        \"samples\": [\n          4.26,\n          4.82,\n          4.91\n        ],\n        \"semantic_type\": \"\",\n        \"description\": \"\"\n      }\n    },\n    {\n      \"column\": \"Time_of_Booking\",\n      \"properties\": {\n        \"dtype\": \"category\",\n        \"num_unique_values\": 4,\n        \"samples\": [\n          \"Evening\",\n          \"Morning\",\n          \"Night\"\n        ],\n        \"semantic_type\": \"\",\n        \"description\": \"\"\n      }\n    },\n    {\n      \"column\": \"Vehicle_Type\",\n      \"properties\": {\n        \"dtype\": \"category\",\n        \"num_unique_values\": 2,\n        \"samples\": [\n          \"Economy\",\n          \"Premium\"\n        ],\n        \"semantic_type\": \"\",\n        \"description\": \"\"\n      }\n    },\n    {\n      \"column\": \"Expected_Ride_Duration\",\n      \"properties\": {\n        \"dtype\": \"number\",\n        \"std\": 49,\n        \"min\": 10,\n        \"max\": 180,\n        \"num_unique_values\": 171,\n        \"samples\": [\n          145,\n          28\n        ],\n        \"semantic_type\": \"\",\n        \"description\": \"\"\n      }\n    },\n    {\n      \"column\": \"Historical_Cost_of_Ride\",\n      \"properties\": {\n        \"dtype\": \"number\",\n        \"std\": 187.15875622018004,\n        \"min\": 25.993449448411635,\n        \"max\": 836.1164185613576,\n        \"num_unique_values\": 1000,\n        \"samples\": [\n          470.2690237026412,\n          286.409294385432\n        ],\n        \"semantic_type\": \"\",\n        \"description\": \"\"\n      }\n    }\n  ]\n}"
            }
          },
          "metadata": {},
          "execution_count": 2
        }
      ],
      "source": [
        "import pandas as pd\n",
        "import numpy as np\n",
        "import seaborn as sns\n",
        "import matplotlib.pyplot as plt\n",
        "from sklearn.model_selection import train_test_split\n",
        "from catboost import CatBoostRegressor\n",
        "from sklearn.metrics import mean_squared_error, mean_absolute_error, r2_score\n",
        "import streamlit as st\n",
        "\n",
        "df = pd.read_csv('https://raw.githubusercontent.com/AhmedSaleh171/Thesis/refs/heads/main/Uber_dynamic_pricing.csv')\n",
        "df.head()\n"
      ]
    },
    {
      "cell_type": "markdown",
      "source": [
        "#Data Viewing"
      ],
      "metadata": {
        "id": "_bdgtDMriukY"
      }
    },
    {
      "cell_type": "code",
      "source": [
        "df.isnull().sum()"
      ],
      "metadata": {
        "id": "bmGSEI_xiqP2",
        "outputId": "77208bd3-9cdf-42eb-b77b-4795fa54075f",
        "colab": {
          "base_uri": "https://localhost:8080/",
          "height": 397
        }
      },
      "execution_count": 3,
      "outputs": [
        {
          "output_type": "execute_result",
          "data": {
            "text/plain": [
              "Number_of_Riders           0\n",
              "Number_of_Drivers          0\n",
              "Location_Category          0\n",
              "Customer_Loyalty_Status    0\n",
              "Number_of_Past_Rides       0\n",
              "Average_Ratings            0\n",
              "Time_of_Booking            0\n",
              "Vehicle_Type               0\n",
              "Expected_Ride_Duration     0\n",
              "Historical_Cost_of_Ride    0\n",
              "dtype: int64"
            ],
            "text/html": [
              "<div>\n",
              "<style scoped>\n",
              "    .dataframe tbody tr th:only-of-type {\n",
              "        vertical-align: middle;\n",
              "    }\n",
              "\n",
              "    .dataframe tbody tr th {\n",
              "        vertical-align: top;\n",
              "    }\n",
              "\n",
              "    .dataframe thead th {\n",
              "        text-align: right;\n",
              "    }\n",
              "</style>\n",
              "<table border=\"1\" class=\"dataframe\">\n",
              "  <thead>\n",
              "    <tr style=\"text-align: right;\">\n",
              "      <th></th>\n",
              "      <th>0</th>\n",
              "    </tr>\n",
              "  </thead>\n",
              "  <tbody>\n",
              "    <tr>\n",
              "      <th>Number_of_Riders</th>\n",
              "      <td>0</td>\n",
              "    </tr>\n",
              "    <tr>\n",
              "      <th>Number_of_Drivers</th>\n",
              "      <td>0</td>\n",
              "    </tr>\n",
              "    <tr>\n",
              "      <th>Location_Category</th>\n",
              "      <td>0</td>\n",
              "    </tr>\n",
              "    <tr>\n",
              "      <th>Customer_Loyalty_Status</th>\n",
              "      <td>0</td>\n",
              "    </tr>\n",
              "    <tr>\n",
              "      <th>Number_of_Past_Rides</th>\n",
              "      <td>0</td>\n",
              "    </tr>\n",
              "    <tr>\n",
              "      <th>Average_Ratings</th>\n",
              "      <td>0</td>\n",
              "    </tr>\n",
              "    <tr>\n",
              "      <th>Time_of_Booking</th>\n",
              "      <td>0</td>\n",
              "    </tr>\n",
              "    <tr>\n",
              "      <th>Vehicle_Type</th>\n",
              "      <td>0</td>\n",
              "    </tr>\n",
              "    <tr>\n",
              "      <th>Expected_Ride_Duration</th>\n",
              "      <td>0</td>\n",
              "    </tr>\n",
              "    <tr>\n",
              "      <th>Historical_Cost_of_Ride</th>\n",
              "      <td>0</td>\n",
              "    </tr>\n",
              "  </tbody>\n",
              "</table>\n",
              "</div><br><label><b>dtype:</b> int64</label>"
            ]
          },
          "metadata": {},
          "execution_count": 3
        }
      ]
    },
    {
      "cell_type": "code",
      "source": [
        "df.hist(figsize=(12, 10), bins=20)\n",
        "plt.suptitle(\"Feature Distributions\", fontsize=16)"
      ],
      "metadata": {
        "colab": {
          "base_uri": "https://localhost:8080/",
          "height": 947
        },
        "id": "ZH9EkAthMU1H",
        "outputId": "d8954523-2866-4aed-dbc7-2347a9b2d739"
      },
      "execution_count": 5,
      "outputs": [
        {
          "output_type": "execute_result",
          "data": {
            "text/plain": [
              "Text(0.5, 0.98, 'Feature Distributions')"
            ]
          },
          "metadata": {},
          "execution_count": 5
        },
        {
          "output_type": "display_data",
          "data": {
            "text/plain": [
              "<Figure size 1200x1000 with 6 Axes>"
            ],
            "image/png": "[encoded data removed]"
          },
          "metadata": {}
        }
      ]
    },
    {
      "cell_type": "code",
      "source": [
        "sns.boxplot(x=df['Historical_Cost_of_Ride'])\n",
        "plt.title(\"Boxplot of Historical Ride Costs\")"
      ],
      "metadata": {
        "colab": {
          "base_uri": "https://localhost:8080/",
          "height": 489
        },
        "id": "O_iztjE7Mdhq",
        "outputId": "80cdfbff-65f0-4638-dc5c-96b3589990e6"
      },
      "execution_count": 6,
      "outputs": [
        {
          "output_type": "execute_result",
          "data": {
            "text/plain": [
              "Text(0.5, 1.0, 'Boxplot of Historical Ride Costs')"
            ]
          },
          "metadata": {},
          "execution_count": 6
        },
        {
          "output_type": "display_data",
          "data": {
            "text/plain": [
              "<Figure size 640x480 with 1 Axes>"
            ],
            "image/png": "[encoded data removed]"
          },
          "metadata": {}
        }
      ]
    },
    {
      "cell_type": "markdown",
      "source": [
        "#Model"
      ],
      "metadata": {
        "id": "npc8EejPirwQ"
      }
    },
    {
      "cell_type": "code",
      "source": [
        "cat_features = ['Vehicle_Type', 'Location_Category', 'Customer_Loyalty_Status']\n",
        "\n",
        "X = df.drop(columns=['Historical_Cost_of_Ride', 'Time_of_Booking'])\n",
        "y = df['Historical_Cost_of_Ride']\n",
        "\n",
        "X_train, X_test, y_train, y_test = train_test_split(X, y, test_size=0.2, random_state=14)\n",
        "\n",
        "cat_model = CatBoostRegressor(iterations=115, learning_rate=0.05, depth=4, random_state=42, verbose=0)\n",
        "\n",
        "cat_model.fit(X_train, y_train, cat_features=cat_features)\n",
        "\n",
        "y_pred = cat_model.predict(X_test)\n",
        "\n"
      ],
      "metadata": {
        "id": "JiySrdZ7ieAP"
      },
      "execution_count": 7,
      "outputs": []
    },
    {
      "cell_type": "markdown",
      "source": [
        "#Evaluation"
      ],
      "metadata": {
        "id": "jJsOzGhljl9p"
      }
    },
    {
      "cell_type": "code",
      "source": [
        "rmse = np.sqrt(mean_squared_error(y_test, y_pred))\n",
        "mae = mean_absolute_error(y_test, y_pred)\n",
        "mape = np.mean(np.abs((y_test - y_pred) / y_test)) * 100\n",
        "rmse_perc = (rmse / np.mean(y_test)) * 100\n",
        "mae_perc = (mae / np.mean(y_test)) * 100\n",
        "r2 = r2_score(y_test, y_pred) * 100\n",
        "\n",
        "print(f\"Root Mean Squared Error (RMSE): {rmse_perc:.2f}%\")\n",
        "print(f\"Mean Absolute Error (MAE): {mae_perc:.2f}%\")\n",
        "print(f\"Mean Absolute Percentage Error (MAPE): {mape:.2f}%\")\n"
      ],
      "metadata": {
        "colab": {
          "base_uri": "https://localhost:8080/"
        },
        "id": "26TIj2o_jkyK",
        "outputId": "3929e0b9-c78f-49b3-b6f6-4f181dd5ec77"
      },
      "execution_count": 8,
      "outputs": [
        {
          "output_type": "stream",
          "name": "stdout",
          "text": [
            "Root Mean Squared Error (RMSE): 17.88%\n",
            "Mean Absolute Error (MAE): 13.72%\n",
            "Mean Absolute Percentage Error (MAPE): 14.30%\n",
            "R² Score: 87.19%\n"
          ]
        }
      ]
    },
    {
      "cell_type": "code",
      "source": [
        "new_data = pd.DataFrame([{\n",
        "    'Number_of_Riders': 72,\n",
        "    'Number_of_Drivers': 97,\n",
        "    'Location_Category': 'Urban',\n",
        "    'Customer_Loyalty_Status': 'Gold',\n",
        "    'Number_of_Past_Rides': 12,\n",
        "    'Average_Ratings': 4.7,\n",
        "    'Vehicle_Type': 'Premium',\n",
        "    'Expected_Ride_Duration': 72\n",
        "}, {\n",
        "    'Number_of_Riders': 2,\n",
        "    'Number_of_Drivers': 7,\n",
        "    'Location_Category': 'Suburban',\n",
        "    'Customer_Loyalty_Status': 'Gold',\n",
        "    'Number_of_Past_Rides': 12,\n",
        "    'Average_Ratings': 4.7,\n",
        "    'Vehicle_Type': 'Premium',\n",
        "    'Expected_Ride_Duration': 56\n",
        "}, {\n",
        "    'Number_of_Riders': 92,\n",
        "    'Number_of_Drivers': 79,\n",
        "    'Location_Category': 'Rural',\n",
        "    'Customer_Loyalty_Status': 'Gold',\n",
        "    'Number_of_Past_Rides': 12,\n",
        "    'Average_Ratings': 4.7,\n",
        "    'Vehicle_Type': 'Economy',\n",
        "    'Expected_Ride_Duration': 82\n",
        "}])\n",
        "\n",
        "# Predict ride price for the new row\n",
        "predicted_price = cat_model.predict(new_data)[0]\n",
        "print(f\"\\nPredicted Ride Price for New Data: ${predicted_price:.2f}\")\n",
        "predicted_price = cat_model.predict(new_data)[1]\n",
        "print(f\"\\nPredicted Ride Price for New Data: ${predicted_price:.2f}\")\n",
        "predicted_price = cat_model.predict(new_data)[2]\n",
        "print(f\"\\nPredicted Ride Price for New Data: ${predicted_price:.2f}\")"
      ],
      "metadata": {
        "id": "s5qn3tZEfsL6",
        "outputId": "9776ff2c-a36f-40e5-cc86-798ebb6f9412",
        "colab": {
          "base_uri": "https://localhost:8080/"
        }
      },
      "execution_count": 27,
      "outputs": [
        {
          "output_type": "stream",
          "name": "stdout",
          "text": [
            "\n",
            "Predicted Ride Price for New Data: $308.12\n",
            "\n",
            "Predicted Ride Price for New Data: $250.32\n",
            "\n",
            "Predicted Ride Price for New Data: $282.51\n"
          ]
        }
      ]
    }
  ]
}