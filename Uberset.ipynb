{
  "nbformat": 4,
  "nbformat_minor": 0,
  "metadata": {
    "colab": {
      "provenance": [],
      "include_colab_link": true
    },
    "kernelspec": {
      "name": "python3",
      "display_name": "Python 3"
    },
    "language_info": {
      "name": "python"
    }
  },
  "cells": [
    {
      "cell_type": "markdown",
      "metadata": {
        "id": "view-in-github",
        "colab_type": "text"
      },
      "source": [
        "<a href=\"https://colab.research.google.com/github/AhmedSaleh171/Thesis/blob/main/Uberset.ipynb\" target=\"_parent\"><img src=\"https://colab.research.google.com/assets/colab-badge.svg\" alt=\"Open In Colab\"/></a>"
      ]
    },
    {
      "cell_type": "code",
      "source": [
        "# !pip install numpy==1.26.4 pandas==2.2.2 --quiet\n",
        "# pip install catboost\n",
        "\n",
        "# ba3d el instal e3mel runtime --> restart session"
      ],
      "metadata": {
        "id": "MtXUZiPbnbYr"
      },
      "execution_count": 10,
      "outputs": []
    },
    {
      "cell_type": "code",
      "execution_count": 11,
      "metadata": {
        "id": "d96EBCKGcttn",
        "colab": {
          "base_uri": "https://localhost:8080/",
          "height": 226
        },
        "outputId": "62e35d07-9344-460e-d181-512d24feb50a"
      },
      "outputs": [
        {
          "output_type": "execute_result",
          "data": {
            "text/plain": [
              "   Number_of_Riders  Number_of_Drivers Location_Category  \\\n",
              "0                90                 45             Urban   \n",
              "1                58                 39          Suburban   \n",
              "2                42                 31             Rural   \n",
              "3                89                 28             Rural   \n",
              "4                78                 22             Rural   \n",
              "\n",
              "  Customer_Loyalty_Status  Number_of_Past_Rides  Average_Ratings  \\\n",
              "0                  Silver                    13             4.47   \n",
              "1                  Silver                    72             4.06   \n",
              "2                  Silver                     0             3.99   \n",
              "3                 Regular                    67             4.31   \n",
              "4                 Regular                    74             3.77   \n",
              "\n",
              "  Time_of_Booking Vehicle_Type  Expected_Ride_Duration  \\\n",
              "0           Night      Premium                      90   \n",
              "1         Evening      Economy                      43   \n",
              "2       Afternoon      Premium                      76   \n",
              "3       Afternoon      Premium                     134   \n",
              "4       Afternoon      Economy                     149   \n",
              "\n",
              "   Historical_Cost_of_Ride  \n",
              "0               284.257273  \n",
              "1               173.874753  \n",
              "2               329.795469  \n",
              "3               470.201232  \n",
              "4               579.681422  "
            ],
            "text/html": [
              "\n",
              "  <div id=\"df-80b8eff9-ed5e-46dd-916c-68ebba898d40\" class=\"colab-df-container\">\n",
              "    <div>\n",
              "<style scoped>\n",
              "    .dataframe tbody tr th:only-of-type {\n",
              "        vertical-align: middle;\n",
              "    }\n",
              "\n",
              "    .dataframe tbody tr th {\n",
              "        vertical-align: top;\n",
              "    }\n",
              "\n",
              "    .dataframe thead th {\n",
              "        text-align: right;\n",
              "    }\n",
              "</style>\n",
              "<table border=\"1\" class=\"dataframe\">\n",
              "  <thead>\n",
              "    <tr style=\"text-align: right;\">\n",
              "      <th></th>\n",
              "      <th>Number_of_Riders</th>\n",
              "      <th>Number_of_Drivers</th>\n",
              "      <th>Location_Category</th>\n",
              "      <th>Customer_Loyalty_Status</th>\n",
              "      <th>Number_of_Past_Rides</th>\n",
              "      <th>Average_Ratings</th>\n",
              "      <th>Time_of_Booking</th>\n",
              "      <th>Vehicle_Type</th>\n",
              "      <th>Expected_Ride_Duration</th>\n",
              "      <th>Historical_Cost_of_Ride</th>\n",
              "    </tr>\n",
              "  </thead>\n",
              "  <tbody>\n",
              "    <tr>\n",
              "      <th>0</th>\n",
              "      <td>90</td>\n",
              "      <td>45</td>\n",
              "      <td>Urban</td>\n",
              "      <td>Silver</td>\n",
              "      <td>13</td>\n",
              "      <td>4.47</td>\n",
              "      <td>Night</td>\n",
              "      <td>Premium</td>\n",
              "      <td>90</td>\n",
              "      <td>284.257273</td>\n",
              "    </tr>\n",
              "    <tr>\n",
              "      <th>1</th>\n",
              "      <td>58</td>\n",
              "      <td>39</td>\n",
              "      <td>Suburban</td>\n",
              "      <td>Silver</td>\n",
              "      <td>72</td>\n",
              "      <td>4.06</td>\n",
              "      <td>Evening</td>\n",
              "      <td>Economy</td>\n",
              "      <td>43</td>\n",
              "      <td>173.874753</td>\n",
              "    </tr>\n",
              "    <tr>\n",
              "      <th>2</th>\n",
              "      <td>42</td>\n",
              "      <td>31</td>\n",
              "      <td>Rural</td>\n",
              "      <td>Silver</td>\n",
              "      <td>0</td>\n",
              "      <td>3.99</td>\n",
              "      <td>Afternoon</td>\n",
              "      <td>Premium</td>\n",
              "      <td>76</td>\n",
              "      <td>329.795469</td>\n",
              "    </tr>\n",
              "    <tr>\n",
              "      <th>3</th>\n",
              "      <td>89</td>\n",
              "      <td>28</td>\n",
              "      <td>Rural</td>\n",
              "      <td>Regular</td>\n",
              "      <td>67</td>\n",
              "      <td>4.31</td>\n",
              "      <td>Afternoon</td>\n",
              "      <td>Premium</td>\n",
              "      <td>134</td>\n",
              "      <td>470.201232</td>\n",
              "    </tr>\n",
              "    <tr>\n",
              "      <th>4</th>\n",
              "      <td>78</td>\n",
              "      <td>22</td>\n",
              "      <td>Rural</td>\n",
              "      <td>Regular</td>\n",
              "      <td>74</td>\n",
              "      <td>3.77</td>\n",
              "      <td>Afternoon</td>\n",
              "      <td>Economy</td>\n",
              "      <td>149</td>\n",
              "      <td>579.681422</td>\n",
              "    </tr>\n",
              "  </tbody>\n",
              "</table>\n",
              "</div>\n",
              "    <div class=\"colab-df-buttons\">\n",
              "      \n",
              "  <div class=\"colab-df-container\">\n",
              "    <button class=\"colab-df-convert\" onclick=\"convertToInteractive('df-80b8eff9-ed5e-46dd-916c-68ebba898d40')\"\n",
              "            title=\"Convert this dataframe to an interactive table.\"\n",
              "            style=\"display:none;\">\n",
              "      \n",
              "  <svg xmlns=\"http://www.w3.org/2000/svg\" height=\"24px\" viewBox=\"0 -960 960 960\">\n",
              "    <path d=\"M120-120v-720h720v720H120Zm60-500h600v-160H180v160Zm220 220h160v-160H400v160Zm0 220h160v-160H400v160ZM180-400h160v-160H180v160Zm440 0h160v-160H620v160ZM180-180h160v-160H180v160Zm440 0h160v-160H620v160Z\"/>\n",
              "  </svg>\n",
              "    </button>\n",
              "    \n",
              "  <style>\n",
              "    .colab-df-container {\n",
              "      display:flex;\n",
              "      gap: 12px;\n",
              "    }\n",
              "\n",
              "    .colab-df-convert {\n",
              "      background-color: #E8F0FE;\n",
              "      border: none;\n",
              "      border-radius: 50%;\n",
              "      cursor: pointer;\n",
              "      display: none;\n",
              "      fill: #1967D2;\n",
              "      height: 32px;\n",
              "      padding: 0 0 0 0;\n",
              "      width: 32px;\n",
              "    }\n",
              "\n",
              "    .colab-df-convert:hover {\n",
              "      background-color: #E2EBFA;\n",
              "      box-shadow: 0px 1px 2px rgba(60, 64, 67, 0.3), 0px 1px 3px 1px rgba(60, 64, 67, 0.15);\n",
              "      fill: #174EA6;\n",
              "    }\n",
              "\n",
              "    .colab-df-buttons div {\n",
              "      margin-bottom: 4px;\n",
              "    }\n",
              "\n",
              "    [theme=dark] .colab-df-convert {\n",
              "      background-color: #3B4455;\n",
              "      fill: #D2E3FC;\n",
              "    }\n",
              "\n",
              "    [theme=dark] .colab-df-convert:hover {\n",
              "      background-color: #434B5C;\n",
              "      box-shadow: 0px 1px 3px 1px rgba(0, 0, 0, 0.15);\n",
              "      filter: drop-shadow(0px 1px 2px rgba(0, 0, 0, 0.3));\n",
              "      fill: #FFFFFF;\n",
              "    }\n",
              "  </style>\n",
              "\n",
              "    <script>\n",
              "      const buttonEl =\n",
              "        document.querySelector('#df-80b8eff9-ed5e-46dd-916c-68ebba898d40 button.colab-df-convert');\n",
              "      buttonEl.style.display =\n",
              "        google.colab.kernel.accessAllowed ? 'block' : 'none';\n",
              "\n",
              "      async function convertToInteractive(key) {\n",
              "        const element = document.querySelector('#df-80b8eff9-ed5e-46dd-916c-68ebba898d40');\n",
              "        const dataTable =\n",
              "          await google.colab.kernel.invokeFunction('convertToInteractive',\n",
              "                                                    [key], {});\n",
              "        if (!dataTable) return;\n",
              "\n",
              "        const docLinkHtml = 'Like what you see? Visit the ' +\n",
              "          '<a target=\"_blank\" href=https://colab.research.google.com/notebooks/data_table.ipynb>data table notebook</a>'\n",
              "          + ' to learn more about interactive tables.';\n",
              "        element.innerHTML = '';\n",
              "        dataTable['output_type'] = 'display_data';\n",
              "        await google.colab.output.renderOutput(dataTable, element);\n",
              "        const docLink = document.createElement('div');\n",
              "        docLink.innerHTML = docLinkHtml;\n",
              "        element.appendChild(docLink);\n",
              "      }\n",
              "    </script>\n",
              "  </div>\n",
              "  \n",
              "    </div>\n",
              "  </div>\n",
              "  "
            ]
          },
          "metadata": {},
          "execution_count": 11
        }
      ],
      "source": [
        "import pandas as pd\n",
        "import numpy as np\n",
        "import seaborn as sns\n",
        "import matplotlib.pyplot as plt\n",
        "from sklearn.model_selection import train_test_split\n",
        "from catboost import CatBoostRegressor\n",
        "from sklearn.metrics import mean_squared_error, mean_absolute_error\n",
        "\n",
        "df = pd.read_csv('https://raw.githubusercontent.com/AhmedSaleh171/Thesis/refs/heads/main/Uber_dynamic_pricing.csv')\n",
        "df.head()\n",
        "\n",
        "\n",
        "\n"
      ]
    },
    {
      "cell_type": "markdown",
      "source": [
        "#Encoding"
      ],
      "metadata": {
        "id": "_bdgtDMriukY"
      }
    },
    {
      "cell_type": "code",
      "source": [
        "# df['Vehicle_Type'] = df['Vehicle_Type'].apply(lambda x: 1 if x == 'Premium' else 0).astype(int)\n",
        "\n",
        "# one_hot_columns = ['Location_Category', 'Customer_Loyalty_Status', 'Time_of_Booking']\n",
        "# one_hot_encoded = pd.get_dummies(df[one_hot_columns], prefix=one_hot_columns)\n",
        "# one_hot_encoded = one_hot_encoded.astype(int)\n",
        "# df= pd.concat([df,one_hot_encoded], axis=1)\n",
        "# df= df.drop(columns=one_hot_columns)\n",
        "# df.head()\n",
        "df.isnull().sum()"
      ],
      "metadata": {
        "id": "bmGSEI_xiqP2",
        "outputId": "f6a66b1f-7ed0-47e9-ffcd-6fefb421b102",
        "colab": {
          "base_uri": "https://localhost:8080/",
          "height": 397
        }
      },
      "execution_count": 12,
      "outputs": [
        {
          "output_type": "execute_result",
          "data": {
            "text/plain": [
              "Number_of_Riders           0\n",
              "Number_of_Drivers          0\n",
              "Location_Category          0\n",
              "Customer_Loyalty_Status    0\n",
              "Number_of_Past_Rides       0\n",
              "Average_Ratings            0\n",
              "Time_of_Booking            0\n",
              "Vehicle_Type               0\n",
              "Expected_Ride_Duration     0\n",
              "Historical_Cost_of_Ride    0\n",
              "dtype: int64"
            ],
            "text/html": [
              "<div>\n",
              "<style scoped>\n",
              "    .dataframe tbody tr th:only-of-type {\n",
              "        vertical-align: middle;\n",
              "    }\n",
              "\n",
              "    .dataframe tbody tr th {\n",
              "        vertical-align: top;\n",
              "    }\n",
              "\n",
              "    .dataframe thead th {\n",
              "        text-align: right;\n",
              "    }\n",
              "</style>\n",
              "<table border=\"1\" class=\"dataframe\">\n",
              "  <thead>\n",
              "    <tr style=\"text-align: right;\">\n",
              "      <th></th>\n",
              "      <th>0</th>\n",
              "    </tr>\n",
              "  </thead>\n",
              "  <tbody>\n",
              "    <tr>\n",
              "      <th>Number_of_Riders</th>\n",
              "      <td>0</td>\n",
              "    </tr>\n",
              "    <tr>\n",
              "      <th>Number_of_Drivers</th>\n",
              "      <td>0</td>\n",
              "    </tr>\n",
              "    <tr>\n",
              "      <th>Location_Category</th>\n",
              "      <td>0</td>\n",
              "    </tr>\n",
              "    <tr>\n",
              "      <th>Customer_Loyalty_Status</th>\n",
              "      <td>0</td>\n",
              "    </tr>\n",
              "    <tr>\n",
              "      <th>Number_of_Past_Rides</th>\n",
              "      <td>0</td>\n",
              "    </tr>\n",
              "    <tr>\n",
              "      <th>Average_Ratings</th>\n",
              "      <td>0</td>\n",
              "    </tr>\n",
              "    <tr>\n",
              "      <th>Time_of_Booking</th>\n",
              "      <td>0</td>\n",
              "    </tr>\n",
              "    <tr>\n",
              "      <th>Vehicle_Type</th>\n",
              "      <td>0</td>\n",
              "    </tr>\n",
              "    <tr>\n",
              "      <th>Expected_Ride_Duration</th>\n",
              "      <td>0</td>\n",
              "    </tr>\n",
              "    <tr>\n",
              "      <th>Historical_Cost_of_Ride</th>\n",
              "      <td>0</td>\n",
              "    </tr>\n",
              "  </tbody>\n",
              "</table>\n",
              "</div><br><label><b>dtype:</b> int64</label>"
            ]
          },
          "metadata": {},
          "execution_count": 12
        }
      ]
    },
    {
      "cell_type": "markdown",
      "source": [
        "#Model"
      ],
      "metadata": {
        "id": "npc8EejPirwQ"
      }
    },
    {
      "cell_type": "code",
      "source": [
        "cat_features = ['Vehicle_Type', 'Location_Category', 'Customer_Loyalty_Status']\n",
        "\n",
        "X = df.drop(columns=['Historical_Cost_of_Ride', 'Time_of_Booking'])\n",
        "y = df['Historical_Cost_of_Ride']\n",
        "\n",
        "X_train, X_test, y_train, y_test = train_test_split(X, y, test_size=0.2, random_state=14)\n",
        "\n",
        "cat_model = CatBoostRegressor(iterations=115, learning_rate=0.05, depth=4, random_state=42, verbose=0)\n",
        "\n",
        "cat_model.fit(X_train, y_train, cat_features=cat_features)\n",
        "\n",
        "y_pred = cat_model.predict(X_test)\n",
        "\n"
      ],
      "metadata": {
        "id": "JiySrdZ7ieAP"
      },
      "execution_count": 13,
      "outputs": []
    },
    {
      "cell_type": "markdown",
      "source": [
        "#Evaluation"
      ],
      "metadata": {
        "id": "jJsOzGhljl9p"
      }
    },
    {
      "cell_type": "code",
      "source": [
        "rmse = np.sqrt(mean_squared_error(y_test, y_pred))\n",
        "mae = mean_absolute_error(y_test, y_pred)\n",
        "mape = np.mean(np.abs((y_test - y_pred) / y_test)) * 100\n",
        "rmse_perc = (rmse / np.mean(y_test)) * 100\n",
        "mae_perc = (mae / np.mean(y_test)) * 100\n",
        "\n",
        "print(f\"Root Mean Squared Error (RMSE): {rmse_perc:.2f}%\")\n",
        "print(f\"Mean Absolute Error (MAE): {mae_perc:.2f}%\")\n",
        "print(f\"Mean Absolute Percentage Error (MAPE): {mape:.2f}%\")"
      ],
      "metadata": {
        "colab": {
          "base_uri": "https://localhost:8080/"
        },
        "id": "26TIj2o_jkyK",
        "outputId": "4bc03424-f9a0-48a1-a889-047159665907"
      },
      "execution_count": 14,
      "outputs": [
        {
          "output_type": "stream",
          "name": "stdout",
          "text": [
            "Root Mean Squared Error (RMSE): 17.88%\n",
            "Mean Absolute Error (MAE): 13.72%\n",
            "Mean Absolute Percentage Error (MAPE): 14.30%\n"
          ]
        }
      ]
    }
  ]
}